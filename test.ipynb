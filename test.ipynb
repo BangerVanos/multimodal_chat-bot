{
 "cells": [
  {
   "cell_type": "code",
   "execution_count": 2,
   "metadata": {},
   "outputs": [
    {
     "data": {
      "text/plain": [
       "'https://dummyimage.com/1024x1024/FFFFFF/000.png&text=An+astronaut+riding+the+horse+on+the+Moon.'"
      ]
     },
     "execution_count": 2,
     "metadata": {},
     "output_type": "execute_result"
    }
   ],
   "source": [
    "from openai import OpenAI\n",
    "client = OpenAI(\n",
    "  api_key=\"sk-or-vv-8a75eff09b81a1711a680db8e0b4908f97a273cfbe727656b14f695c0c3bb3ab\", # ваш ключ в VseGPT после регистрации\n",
    "  base_url=\"https://api.vsegpt.ru/v1\",\n",
    ")\n",
    "\n",
    "response_big = client.images.generate(\n",
    "  model=\"img-dummy/image\",\n",
    "  prompt=\"An astronaut riding the horse on the Moon.\",\n",
    "  n=1,\n",
    "  size=\"1024x1024\"\n",
    ")\n",
    "response_big.data[0].url"
   ]
  },
  {
   "cell_type": "code",
   "execution_count": null,
   "metadata": {},
   "outputs": [],
   "source": []
  }
 ],
 "metadata": {
  "kernelspec": {
   "display_name": ".venv",
   "language": "python",
   "name": "python3"
  },
  "language_info": {
   "codemirror_mode": {
    "name": "ipython",
    "version": 3
   },
   "file_extension": ".py",
   "mimetype": "text/x-python",
   "name": "python",
   "nbconvert_exporter": "python",
   "pygments_lexer": "ipython3",
   "version": "3.11.9"
  }
 },
 "nbformat": 4,
 "nbformat_minor": 2
}
